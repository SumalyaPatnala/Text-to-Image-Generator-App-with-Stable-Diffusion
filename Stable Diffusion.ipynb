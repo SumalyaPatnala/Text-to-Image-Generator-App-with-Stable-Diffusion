{
 "cells": [
  {
   "cell_type": "code",
   "execution_count": null,
   "id": "7dfeb0d9-913f-4f33-81b6-6361da84126d",
   "metadata": {},
   "outputs": [],
   "source": [
    "!pip install diffusers transformers torch torchvision accelerate opencv-python scikit-image customtkinter"
   ]
  },
  {
   "cell_type": "code",
   "execution_count": null,
   "id": "baeb828e-75fe-43b5-9fc5-e73f37efb850",
   "metadata": {},
   "outputs": [],
   "source": [
    "import torch\n",
    "from diffusers import StableDiffusionPipeline\n",
    "from skimage.metrics import structural_similarity as ssim\n",
    "import numpy as np\n",
    "import cv2\n",
    "import customtkinter as ctk\n",
    "from PIL import Image\n",
    "\n",
    "\n",
    "pipe = StableDiffusionPipeline.from_pretrained(\"runwayml/stable-diffusion-v1-5\")\n",
    "pipe = pipe.to(\"cuda\")\n",
    "\n",
    "def generate_image(prompt, output_path=\"generated_image.png\"):\n",
    "    \"\"\"\n",
    "    Generate an image from a text prompt using Stable Diffusion.\n",
    "    \"\"\"\n",
    "    with torch.autocast(\"cuda\"):\n",
    "        image = pipe(prompt).images[0]\n",
    "    image.save(output_path)\n",
    "    return image\n",
    "\n",
    "def compute_ssim(image1_path, image2_path):\n",
    "    \"\"\"\n",
    "    Compute SSIM (Structural Similarity Index) between two images.\n",
    "    \"\"\"\n",
    "    img1 = cv2.imread(image1_path, cv2.IMREAD_GRAYSCALE)\n",
    "    img2 = cv2.imread(image2_path, cv2.IMREAD_GRAYSCALE)\n",
    "    score, _ = ssim(img1, img2, full=True)\n",
    "    return score\n",
    "\n",
    "# GUI with customtkinter\n",
    "def start_gui():\n",
    "    def on_generate():\n",
    "        prompt = prompt_entry.get()\n",
    "        image = generate_image(prompt)\n",
    "        output_label.configure(text=\"Image generated successfully!\")\n",
    "        img_display = Image.open(\"generated_image.png\")\n",
    "        img_display.thumbnail((300, 300))\n",
    "        img_display = ctk.CTkImage(img_display)\n",
    "        image_label.configure(image=img_display)\n",
    "        image_label.image = img_display\n",
    "\n",
    "    root = ctk.CTk()\n",
    "    root.geometry(\"500x600\")\n",
    "    root.title(\"Text-to-Image Generator\")\n",
    "\n",
    "    prompt_label = ctk.CTkLabel(root, text=\"Enter a prompt:\")\n",
    "    prompt_label.pack(pady=10)\n",
    "\n",
    "    prompt_entry = ctk.CTkEntry(root, width=400)\n",
    "    prompt_entry.pack(pady=10)\n",
    "\n",
    "    generate_button = ctk.CTkButton(root, text=\"Generate Image\", command=on_generate)\n",
    "    generate_button.pack(pady=20)\n",
    "\n",
    "    output_label = ctk.CTkLabel(root, text=\"\")\n",
    "    output_label.pack(pady=10)\n",
    "\n",
    "    image_label = ctk.CTkLabel(root, text=\"\")\n",
    "    image_label.pack(pady=10)\n",
    "\n",
    "    root.mainloop()\n",
    "\n",
    "if __name__ == \"__main__\":\n",
    "    start_gui()\n"
   ]
  },
  {
   "cell_type": "code",
   "execution_count": null,
   "id": "1ec8c28e-1803-4546-8c18-01c957a9ce82",
   "metadata": {},
   "outputs": [],
   "source": []
  }
 ],
 "metadata": {
  "kernelspec": {
   "display_name": "Python 3 (ipykernel)",
   "language": "python",
   "name": "python3"
  },
  "language_info": {
   "codemirror_mode": {
    "name": "ipython",
    "version": 3
   },
   "file_extension": ".py",
   "mimetype": "text/x-python",
   "name": "python",
   "nbconvert_exporter": "python",
   "pygments_lexer": "ipython3",
   "version": "3.11.8"
  }
 },
 "nbformat": 4,
 "nbformat_minor": 5
}
